{
 "cells": [
  {
   "cell_type": "code",
   "execution_count": 23,
   "metadata": {},
   "outputs": [],
   "source": [
    "import numpy as np\n",
    "import tensorflow as tf"
   ]
  },
  {
   "cell_type": "code",
   "execution_count": 24,
   "metadata": {},
   "outputs": [],
   "source": [
    "npz = np.load('Audiobooks_data_train.npz')\n",
    "\n",
    "train_inputs = npz['inputs'].astype(np.float)\n",
    "train_targets = npz['targets'].astype(np.int)"
   ]
  },
  {
   "cell_type": "code",
   "execution_count": 25,
   "metadata": {},
   "outputs": [
    {
     "data": {
      "text/plain": [
       "((3579, 10), (3579,))"
      ]
     },
     "execution_count": 25,
     "metadata": {},
     "output_type": "execute_result"
    }
   ],
   "source": [
    "train_inputs.shape, train_targets.shape"
   ]
  },
  {
   "cell_type": "code",
   "execution_count": 26,
   "metadata": {},
   "outputs": [],
   "source": [
    "npz = np.load('Audiobooks_data_validation.npz')\n",
    "\n",
    "validation_inputs, validation_targets = npz['inputs'].astype(np.float), npz['targets'].astype(np.int)"
   ]
  },
  {
   "cell_type": "code",
   "execution_count": 27,
   "metadata": {},
   "outputs": [],
   "source": [
    "npz = np.load('Audiobooks_data_test.npz')\n",
    "\n",
    "test_inputs, test_targets = npz['inputs'].astype(np.float), npz['targets'].astype(np.int)"
   ]
  },
  {
   "cell_type": "code",
   "execution_count": 28,
   "metadata": {},
   "outputs": [],
   "source": [
    "input_size= 10\n",
    "output_size = 2\n",
    "hidden_layer_size= 100\n",
    "\n",
    "model =  tf.keras.Sequential([\n",
    "                            tf.keras.layers.Dense(hidden_layer_size, activation='relu'),\n",
    "                            tf.keras.layers.Dense(hidden_layer_size, activation='relu'),\n",
    "                            tf.keras.layers.Dense(hidden_layer_size, activation='relu'),\n",
    "                            tf.keras.layers.Dense(hidden_layer_size, activation='relu'),\n",
    "                            tf.keras.layers.Dense(output_size, activation='softmax')\n",
    "                            ])"
   ]
  },
  {
   "cell_type": "code",
   "execution_count": 29,
   "metadata": {},
   "outputs": [],
   "source": [
    "model.compile(optimizer='adam', loss='sparse_categorical_crossentropy', metrics=['accuracy'])"
   ]
  },
  {
   "cell_type": "code",
   "execution_count": 30,
   "metadata": {},
   "outputs": [
    {
     "name": "stdout",
     "output_type": "stream",
     "text": [
      "Epoch 1/100\n",
      "36/36 - 0s - loss: 0.5027 - accuracy: 0.7337 - val_loss: 0.4000 - val_accuracy: 0.7964\n",
      "Epoch 2/100\n",
      "36/36 - 0s - loss: 0.3959 - accuracy: 0.7910 - val_loss: 0.4071 - val_accuracy: 0.7942\n",
      "Epoch 3/100\n",
      "36/36 - 0s - loss: 0.3781 - accuracy: 0.8016 - val_loss: 0.3734 - val_accuracy: 0.8098\n",
      "Epoch 4/100\n",
      "36/36 - 0s - loss: 0.3767 - accuracy: 0.7983 - val_loss: 0.3836 - val_accuracy: 0.7629\n",
      "Epoch 5/100\n",
      "36/36 - 0s - loss: 0.3771 - accuracy: 0.7985 - val_loss: 0.3760 - val_accuracy: 0.7964\n",
      "Epoch 6/100\n",
      "36/36 - 0s - loss: 0.3654 - accuracy: 0.8050 - val_loss: 0.3775 - val_accuracy: 0.8054\n",
      "Epoch 7/100\n",
      "36/36 - 0s - loss: 0.3601 - accuracy: 0.8055 - val_loss: 0.3656 - val_accuracy: 0.8076\n",
      "Epoch 8/100\n",
      "36/36 - 0s - loss: 0.3589 - accuracy: 0.8075 - val_loss: 0.3623 - val_accuracy: 0.8098\n",
      "Epoch 9/100\n",
      "36/36 - 0s - loss: 0.3626 - accuracy: 0.8047 - val_loss: 0.3657 - val_accuracy: 0.7964\n",
      "Epoch 10/100\n",
      "36/36 - 0s - loss: 0.3543 - accuracy: 0.8106 - val_loss: 0.3970 - val_accuracy: 0.7673\n",
      "Epoch 11/100\n",
      "36/36 - 0s - loss: 0.3651 - accuracy: 0.7966 - val_loss: 0.3905 - val_accuracy: 0.8009\n",
      "Epoch 12/100\n",
      "36/36 - 0s - loss: 0.3540 - accuracy: 0.8106 - val_loss: 0.3667 - val_accuracy: 0.7763\n",
      "Epoch 13/100\n",
      "36/36 - 0s - loss: 0.3536 - accuracy: 0.8094 - val_loss: 0.3673 - val_accuracy: 0.8031\n",
      "Epoch 14/100\n",
      "36/36 - 0s - loss: 0.3497 - accuracy: 0.8150 - val_loss: 0.3662 - val_accuracy: 0.8121\n",
      "Epoch 15/100\n",
      "36/36 - 0s - loss: 0.3575 - accuracy: 0.7991 - val_loss: 0.3785 - val_accuracy: 0.7987\n",
      "Epoch 16/100\n",
      "36/36 - 0s - loss: 0.3477 - accuracy: 0.8150 - val_loss: 0.3724 - val_accuracy: 0.8166\n",
      "Epoch 17/100\n",
      "36/36 - 0s - loss: 0.3524 - accuracy: 0.8120 - val_loss: 0.3573 - val_accuracy: 0.8076\n",
      "Epoch 18/100\n",
      "36/36 - 0s - loss: 0.3531 - accuracy: 0.8080 - val_loss: 0.3752 - val_accuracy: 0.8166\n",
      "Epoch 19/100\n",
      "36/36 - 0s - loss: 0.3524 - accuracy: 0.8047 - val_loss: 0.3684 - val_accuracy: 0.8076\n",
      "Epoch 20/100\n",
      "36/36 - 0s - loss: 0.3559 - accuracy: 0.8100 - val_loss: 0.3980 - val_accuracy: 0.8076\n",
      "Epoch 21/100\n",
      "36/36 - 0s - loss: 0.3540 - accuracy: 0.8080 - val_loss: 0.3767 - val_accuracy: 0.8098\n",
      "Epoch 22/100\n",
      "36/36 - 0s - loss: 0.3479 - accuracy: 0.8120 - val_loss: 0.3775 - val_accuracy: 0.8054\n",
      "Epoch 23/100\n",
      "36/36 - 0s - loss: 0.3450 - accuracy: 0.8223 - val_loss: 0.3846 - val_accuracy: 0.8031\n",
      "Epoch 24/100\n",
      "36/36 - 0s - loss: 0.3536 - accuracy: 0.8128 - val_loss: 0.3916 - val_accuracy: 0.8054\n",
      "Epoch 25/100\n",
      "36/36 - 0s - loss: 0.3472 - accuracy: 0.8145 - val_loss: 0.4360 - val_accuracy: 0.8031\n",
      "Epoch 26/100\n",
      "36/36 - 0s - loss: 0.3470 - accuracy: 0.8175 - val_loss: 0.3699 - val_accuracy: 0.8277\n",
      "Epoch 27/100\n",
      "36/36 - 0s - loss: 0.3431 - accuracy: 0.8201 - val_loss: 0.3844 - val_accuracy: 0.8054\n",
      "Epoch 28/100\n",
      "36/36 - 0s - loss: 0.3438 - accuracy: 0.8145 - val_loss: 0.3805 - val_accuracy: 0.8054\n",
      "Epoch 29/100\n",
      "36/36 - 0s - loss: 0.3420 - accuracy: 0.8170 - val_loss: 0.3926 - val_accuracy: 0.8166\n",
      "Epoch 30/100\n",
      "36/36 - 0s - loss: 0.3419 - accuracy: 0.8159 - val_loss: 0.3809 - val_accuracy: 0.7964\n",
      "Epoch 31/100\n",
      "36/36 - 0s - loss: 0.3446 - accuracy: 0.8134 - val_loss: 0.3955 - val_accuracy: 0.7919\n",
      "Epoch 32/100\n",
      "36/36 - 0s - loss: 0.3404 - accuracy: 0.8220 - val_loss: 0.3930 - val_accuracy: 0.8166\n",
      "Epoch 33/100\n",
      "36/36 - 0s - loss: 0.3435 - accuracy: 0.8156 - val_loss: 0.3970 - val_accuracy: 0.8031\n",
      "Epoch 34/100\n",
      "36/36 - 0s - loss: 0.3383 - accuracy: 0.8189 - val_loss: 0.3806 - val_accuracy: 0.8143\n",
      "Epoch 35/100\n",
      "36/36 - 0s - loss: 0.3359 - accuracy: 0.8175 - val_loss: 0.3654 - val_accuracy: 0.8076\n",
      "Epoch 36/100\n",
      "36/36 - 0s - loss: 0.3419 - accuracy: 0.8150 - val_loss: 0.3725 - val_accuracy: 0.8054\n",
      "Epoch 37/100\n",
      "36/36 - 0s - loss: 0.3370 - accuracy: 0.8189 - val_loss: 0.3790 - val_accuracy: 0.7852\n"
     ]
    },
    {
     "data": {
      "text/plain": [
       "<tensorflow.python.keras.callbacks.History at 0x7f5d2a7365c0>"
      ]
     },
     "execution_count": 30,
     "metadata": {},
     "output_type": "execute_result"
    }
   ],
   "source": [
    "num_epochs = 100\n",
    "batch_size = 100\n",
    "\n",
    "early_stopping = tf.keras.callbacks.EarlyStopping(patience=20)\n",
    "model.fit(train_inputs, train_targets, batch_size= batch_size, epochs = num_epochs,\n",
    "          callbacks=[early_stopping],\n",
    "          validation_data=(validation_inputs,validation_targets), verbose=2)"
   ]
  },
  {
   "cell_type": "code",
   "execution_count": 31,
   "metadata": {},
   "outputs": [
    {
     "name": "stdout",
     "output_type": "stream",
     "text": [
      "14/14 [==============================] - 0s 2ms/step - loss: 0.3784 - accuracy: 0.8036\n"
     ]
    }
   ],
   "source": [
    "test_loss, test_accuracy = model.evaluate(test_inputs, test_targets)"
   ]
  },
  {
   "cell_type": "code",
   "execution_count": 32,
   "metadata": {},
   "outputs": [
    {
     "data": {
      "text/plain": [
       "(0.37837404012680054, 0.8035714030265808)"
      ]
     },
     "execution_count": 32,
     "metadata": {},
     "output_type": "execute_result"
    }
   ],
   "source": [
    "test_loss, test_accuracy"
   ]
  },
  {
   "cell_type": "code",
   "execution_count": null,
   "metadata": {},
   "outputs": [],
   "source": []
  }
 ],
 "metadata": {
  "kernelspec": {
   "display_name": "Python 3",
   "language": "python",
   "name": "python3"
  },
  "language_info": {
   "codemirror_mode": {
    "name": "ipython",
    "version": 3
   },
   "file_extension": ".py",
   "mimetype": "text/x-python",
   "name": "python",
   "nbconvert_exporter": "python",
   "pygments_lexer": "ipython3",
   "version": "3.6.9"
  }
 },
 "nbformat": 4,
 "nbformat_minor": 4
}
